{
  "nbformat": 4,
  "nbformat_minor": 0,
  "metadata": {
    "colab": {
      "private_outputs": true,
      "provenance": []
    },
    "kernelspec": {
      "name": "python3",
      "display_name": "Python 3"
    },
    "language_info": {
      "name": "python"
    }
  },
  "cells": [
    {
      "cell_type": "code",
      "source": [
        "# Climate Change Analysis in Tanzania\n",
        "\n",
        "#  1. Install & Import Necessary Libraries\n",
        "!pip install pandas numpy matplotlib seaborn scikit-learn --quiet\n"
      ],
      "metadata": {
        "id": "CRYPNC_a0oTQ"
      },
      "execution_count": null,
      "outputs": []
    },
    {
      "cell_type": "code",
      "source": [],
      "metadata": {
        "id": "6RStQkFD0xCi"
      },
      "execution_count": null,
      "outputs": []
    },
    {
      "cell_type": "code",
      "source": [
        "# Import Necessary Libraries\n",
        "import pandas as pd # load data\n",
        "import numpy as np # for numeric Processing\n",
        "import matplotlib.pyplot as plt # visualization\n",
        "import seaborn as sns # Visualization\n",
        "from sklearn.model_selection import train_test_split # Machine Learning model\n",
        "from sklearn.linear_model import LinearRegression\n",
        "from sklearn.ensemble import RandomForestRegressor\n",
        "from sklearn.metrics import mean_squared_error, mean_absolute_error\n",
        "from statsmodels.tsa.seasonal import seasonal_decompose # plot time series data"
      ],
      "metadata": {
        "id": "xujcp6XX0zWD"
      },
      "execution_count": null,
      "outputs": []
    },
    {
      "cell_type": "code",
      "source": [
        "# Generating mock climate data from 1980 to 2025\n",
        "np.random.seed(42)\n",
        "years = np.arange(1980, 2025)\n",
        "temperature = 22 + 0.03 * (years - 1980) + np.random.normal(0, 0.5, len(years))\n",
        "precipitation = 800 + 2 * (years - 1980) + np.random.normal(0, 30, len(years))\n",
        "\n",
        "df = pd.DataFrame({\n",
        "    'Year': years,\n",
        "    'Average_Temperature_C': temperature,\n",
        "    'Annual_Precipitation_mm': precipitation\n",
        "})\n",
        "\n",
        "# Save mock data to CSV\n",
        "df.to_csv('tanzania_climate_data.csv', index=False)"
      ],
      "metadata": {
        "id": "Zsfu5AxJ1wvI"
      },
      "execution_count": null,
      "outputs": []
    },
    {
      "cell_type": "code",
      "source": [
        "\n",
        "# 3. Load and Preview the Dataset\n",
        "df = pd.read_csv('tanzania_climate_data.csv')\n",
        "print(df.head(18))\n",
        "\n"
      ],
      "metadata": {
        "id": "abf4KUie12jj"
      },
      "execution_count": null,
      "outputs": []
    },
    {
      "cell_type": "code",
      "source": [
        "#  4. Data Preprocessing\n",
        "df['Year'] = pd.to_datetime(df['Year'], format='%Y')\n",
        "df.set_index('Year', inplace=True)\n",
        "\n",
        "# Check for missing values\n",
        "print(\"\\nMissing values:\\n\", df.isnull().sum())"
      ],
      "metadata": {
        "id": "0f-T-MAJ2DBL"
      },
      "execution_count": null,
      "outputs": []
    },
    {
      "cell_type": "code",
      "source": [
        "#  5. Exploratory Data Analysis (EDA)\n",
        "\n",
        "# Descriptive statistics\n",
        "print(\"\\nDescriptive Statistics:\\n\", df.describe())"
      ],
      "metadata": {
        "id": "BiphxCGc2VoP"
      },
      "execution_count": null,
      "outputs": []
    },
    {
      "cell_type": "code",
      "source": [
        "#  5. Exploratory Data Analysis (EDA)\n",
        "\n",
        "# Descriptive statistics\n",
        "print(\"\\nDescriptive Statistics:\\n\", df.describe())\n",
        "\n",
        "# Line plots\n",
        "plt.figure(figsize=(12, 6))\n",
        "plt.plot(df.index.year, df['Average_Temperature_C'], label='Avg Temp (°C)', color='green')\n",
        "plt.title('Climate Trends in Tanzania (1980–2025)')\n",
        "plt.xlabel('Year')\n",
        "plt.ylabel('Value')\n",
        "plt.legend()\n",
        "plt.grid()\n",
        "plt.show()\n"
      ],
      "metadata": {
        "id": "lcOd0xzl2TYm"
      },
      "execution_count": null,
      "outputs": []
    },
    {
      "cell_type": "code",
      "source": [
        "# Line plots\n",
        "plt.figure(figsize=(12, 6))\n",
        "\n",
        "plt.plot(df.index.year, df['Annual_Precipitation_mm'], label='Precipitation (mm)', color='blue')\n",
        "plt.title('Climate Trends in Tanzania (1980–2025)')\n",
        "plt.xlabel('Year')\n",
        "plt.ylabel('Value')\n",
        "plt.legend()\n",
        "plt.grid()\n",
        "plt.show()"
      ],
      "metadata": {
        "id": "OumgYDWO3Pzz"
      },
      "execution_count": null,
      "outputs": []
    },
    {
      "cell_type": "code",
      "source": [
        "\n",
        "# Heatmap for correlation\n",
        "plt.figure(figsize=(6, 4))\n",
        "sns.heatmap(df.corr(), annot=True, cmap='coolwarm')\n",
        "plt.title(\"Correlation Matrix\")\n",
        "plt.show()\n"
      ],
      "metadata": {
        "id": "FXz1p5rd24Il"
      },
      "execution_count": null,
      "outputs": []
    },
    {
      "cell_type": "code",
      "source": [
        "\n",
        "# Seasonal decomposition (on temperature)\n",
        "result = seasonal_decompose(df['Average_Temperature_C'], model='additive', period=5)\n",
        "result.plot()\n",
        "plt.suptitle(\"Seasonal Decomposition of Avg Temperature\")\n",
        "plt.show()"
      ],
      "metadata": {
        "id": "roucXYp5257n"
      },
      "execution_count": null,
      "outputs": []
    },
    {
      "cell_type": "markdown",
      "source": [
        "#  6. Machine Learning Modeling"
      ],
      "metadata": {
        "id": "zzt9WujD6H6_"
      }
    },
    {
      "cell_type": "code",
      "source": [
        "\n",
        "\n",
        "# Use year as numeric feature\n",
        "df_ml = df.copy()\n",
        "df_ml['Year'] = df_ml.index.year\n"
      ],
      "metadata": {
        "id": "3WZ4BPCx37Lh"
      },
      "execution_count": null,
      "outputs": []
    },
    {
      "cell_type": "code",
      "source": [
        "\n",
        "X = df_ml[['Year']]\n",
        "y_temp = df_ml['Average_Temperature_C']\n",
        "y_prec = df_ml['Annual_Precipitation_mm']\n",
        "\n",
        "# Split data\n",
        "X_train, X_test, y_temp_train, y_temp_test = train_test_split(X, y_temp, test_size=0.2, random_state=42)\n",
        "\n"
      ],
      "metadata": {
        "id": "rhm_YJve5Ahb"
      },
      "execution_count": null,
      "outputs": []
    },
    {
      "cell_type": "code",
      "source": [
        "# Linear Regression Model for Temperature\n",
        "model_1 = LinearRegression()\n",
        "model_1.fit(X_train, y_temp_train)\n",
        "temp_pred = model_1.predict(X_test)\n"
      ],
      "metadata": {
        "id": "6iohGKDb5C-8"
      },
      "execution_count": null,
      "outputs": []
    },
    {
      "cell_type": "code",
      "source": [
        "#  7. Evaluation\n",
        "def evaluate_model(y_true, y_pred, model_name):\n",
        "    rmse = np.sqrt(mean_squared_error(y_true, y_pred))\n",
        "    mae = mean_absolute_error(y_true, y_pred)\n",
        "    print(f\"{model_name} Evaluation:\")\n",
        "    print(f\" - RMSE: {rmse:.2f}\")\n",
        "    print(f\" - MAE: {mae:.2f}\")\n",
        "    print()"
      ],
      "metadata": {
        "id": "29AACqjM5Kgu"
      },
      "execution_count": null,
      "outputs": []
    },
    {
      "cell_type": "code",
      "source": [
        "evaluate_model(y_temp_test, temp_pred, \"Linear Regression\")"
      ],
      "metadata": {
        "id": "rDxdfktZ5-OS"
      },
      "execution_count": null,
      "outputs": []
    },
    {
      "cell_type": "code",
      "source": [
        "# Random Forest for comparison\n",
        "rf_model = RandomForestRegressor(n_estimators=100, random_state=42)\n",
        "rf_model.fit(X_train, y_temp_train)\n",
        "rf_pred = rf_model.predict(X_test)\n",
        "\n",
        "\n",
        "\n",
        "evaluate_model(y_temp_test, temp_pred, \"Linear Regression\")\n",
        "evaluate_model(y_temp_test, rf_pred, \"Random Forest Regressor\")"
      ],
      "metadata": {
        "id": "4CWLmpGk6adC"
      },
      "execution_count": null,
      "outputs": []
    },
    {
      "cell_type": "code",
      "source": [
        "#  8. Predict Future Climate (2021–2030)\n",
        "future_years = pd.DataFrame({'Year': np.arange(2026, 2031)})\n",
        "future_temp_pred = rf_model.predict(future_years)\n",
        "future_temp_pred"
      ],
      "metadata": {
        "id": "Z_hBReOL6SlL"
      },
      "execution_count": null,
      "outputs": []
    },
    {
      "cell_type": "code",
      "source": [
        "\n",
        "\n",
        "\n",
        "#  Plotting Predictions\n",
        "plt.figure(figsize=(10, 5))\n",
        "plt.plot(df.index.year, df['Average_Temperature_C'], label='Historical Temp', color='green')\n",
        "plt.plot(future_years['Year'], future_temp_pred, label='Predicted Temp (2025-2030)', color='orange')\n",
        "plt.title(\"Temperature Forecast for Tanzania\")\n",
        "plt.xlabel(\"Year\")\n",
        "plt.ylabel(\"Temperature (°C)\")\n",
        "plt.legend()\n",
        "plt.grid()\n",
        "plt.show()\n"
      ],
      "metadata": {
        "id": "DKSe7lEg36H4"
      },
      "execution_count": null,
      "outputs": []
    },
    {
      "cell_type": "code",
      "execution_count": null,
      "metadata": {
        "id": "rJEnfqnTwjL3"
      },
      "outputs": [],
      "source": [
        "# Climate Change Analysis in Tanzania\n",
        "\n",
        "#  1. Install & Import Necessary Libraries\n",
        "!pip install pandas numpy matplotlib seaborn scikit-learn --quiet\n",
        " # Import Necessary Libraries\n",
        "import pandas as pd\n",
        "import numpy as np\n",
        "import matplotlib.pyplot as plt\n",
        "import seaborn as sns\n",
        "from sklearn.model_selection import train_test_split\n",
        "from sklearn.linear_model import LinearRegression\n",
        "from sklearn.ensemble import RandomForestRegressor\n",
        "from sklearn.metrics import mean_squared_error, mean_absolute_error\n",
        "from statsmodels.tsa.seasonal import seasonal_decompose\n",
        "\n",
        "#  2. Sample Data Creation (can be replaced with real-world data)\n",
        "# You can use real data from: https://climateknowledgeportal.worldbank.org/country/tanzania or NOAA\n",
        "\n",
        "# Generating mock climate data from 1980 to 2020\n",
        "np.random.seed(42)\n",
        "years = np.arange(1980, 2025)\n",
        "temperature = 22 + 0.03 * (years - 1980) + np.random.normal(0, 0.5, len(years))\n",
        "precipitation = 800 + 2 * (years - 1980) + np.random.normal(0, 30, len(years))\n",
        "\n",
        "df = pd.DataFrame({\n",
        "    'Year': years,\n",
        "    'Average_Temperature_C': temperature,\n",
        "    'Annual_Precipitation_mm': precipitation\n",
        "})\n",
        "\n",
        "# Save mock data to CSV\n",
        "df.to_csv('tanzania_climate_data.csv', index=False)\n",
        "\n",
        "# 3. Load and Preview the Dataset\n",
        "df = pd.read_csv('tanzania_climate_data.csv')\n",
        "print(df.head())\n",
        "\n",
        "#  4. Data Preprocessing\n",
        "df['Year'] = pd.to_datetime(df['Year'], format='%Y')\n",
        "df.set_index('Year', inplace=True)\n",
        "\n",
        "# Check for missing values\n",
        "print(\"\\nMissing values:\\n\", df.isnull().sum())\n",
        "\n",
        "#  5. Exploratory Data Analysis (EDA)\n",
        "\n",
        "# Descriptive statistics\n",
        "print(\"\\nDescriptive Statistics:\\n\", df.describe())\n",
        "\n",
        "# Line plots\n",
        "plt.figure(figsize=(12, 6))\n",
        "plt.plot(df.index.year, df['Average_Temperature_C'], label='Avg Temp (°C)', color='red')\n",
        "plt.plot(df.index.year, df['Annual_Precipitation_mm'], label='Precipitation (mm)', color='blue')\n",
        "plt.title('Climate Trends in Tanzania (1980–2020)')\n",
        "plt.xlabel('Year')\n",
        "plt.ylabel('Value')\n",
        "plt.legend()\n",
        "plt.grid()\n",
        "plt.show()\n",
        "\n",
        "# Heatmap for correlation\n",
        "plt.figure(figsize=(6, 4))\n",
        "sns.heatmap(df.corr(), annot=True, cmap='coolwarm')\n",
        "plt.title(\"Correlation Matrix\")\n",
        "plt.show()\n",
        "\n",
        "# Seasonal decomposition (on temperature)\n",
        "result = seasonal_decompose(df['Average_Temperature_C'], model='additive', period=5)\n",
        "result.plot()\n",
        "plt.suptitle(\"Seasonal Decomposition of Avg Temperature\")\n",
        "plt.show()\n",
        "\n",
        "#  6. Machine Learning Modeling\n",
        "\n",
        "# Use year as numeric feature\n",
        "df_ml = df.copy()\n",
        "df_ml['Year'] = df_ml.index.year\n",
        "\n",
        "X = df_ml[['Year']]\n",
        "y_temp = df_ml['Average_Temperature_C']\n",
        "y_prec = df_ml['Annual_Precipitation_mm']\n",
        "\n",
        "# Split data\n",
        "X_train, X_test, y_temp_train, y_temp_test = train_test_split(X, y_temp, test_size=0.2, random_state=42)\n",
        "\n",
        "# Linear Regression Model for Temperature\n",
        "lr_model = LinearRegression()\n",
        "lr_model.fit(X_train, y_temp_train)\n",
        "temp_pred = lr_model.predict(X_test)\n",
        "\n",
        "# Random Forest for comparison\n",
        "rf_model = RandomForestRegressor(n_estimators=100, random_state=42)\n",
        "rf_model.fit(X_train, y_temp_train)\n",
        "rf_pred = rf_model.predict(X_test)\n",
        "\n",
        "#  7. Evaluation\n",
        "def evaluate_model(y_true, y_pred, model_name):\n",
        "    rmse = np.sqrt(mean_squared_error(y_true, y_pred))\n",
        "    mae = mean_absolute_error(y_true, y_pred)\n",
        "    print(f\"{model_name} Evaluation:\")\n",
        "    print(f\" - RMSE: {rmse:.2f}\")\n",
        "    print(f\" - MAE: {mae:.2f}\")\n",
        "    print()\n",
        "\n",
        "evaluate_model(y_temp_test, temp_pred, \"Linear Regression\")\n",
        "evaluate_model(y_temp_test, rf_pred, \"Random Forest Regressor\")\n",
        "\n",
        "#  8. Predict Future Climate (2021–2030)\n",
        "future_years = pd.DataFrame({'Year': np.arange(2021, 2031)})\n",
        "future_temp_pred = rf_model.predict(future_years)\n",
        "\n",
        "#  Plotting Predictions\n",
        "plt.figure(figsize=(10, 5))\n",
        "plt.plot(df.index.year, df['Average_Temperature_C'], label='Historical Temp', color='green')\n",
        "plt.plot(future_years['Year'], future_temp_pred, label='Predicted Temp (2021-2030)', color='orange')\n",
        "plt.title(\"Temperature Forecast for Tanzania\")\n",
        "plt.xlabel(\"Year\")\n",
        "plt.ylabel(\"Temperature (°C)\")\n",
        "plt.legend()\n",
        "plt.grid()\n",
        "plt.show()\n"
      ]
    },
    {
      "cell_type": "code",
      "source": [
        "# Climate Change Analysis in Tanzania\n",
        "# ===================================\n",
        "\n",
        "# SECTION 1: Install & Import Libraries\n",
        "!pip install -q seaborn statsmodels\n",
        "\n",
        "import pandas as pd\n",
        "import numpy as np\n",
        "import matplotlib.pyplot as plt\n",
        "import seaborn as sns\n",
        "import requests\n",
        "from io import StringIO\n",
        "from datetime import datetime\n",
        "from sklearn.model_selection import train_test_split\n",
        "from sklearn.linear_model import LinearRegression\n",
        "from sklearn.ensemble import RandomForestRegressor\n",
        "from sklearn.metrics import mean_squared_error, mean_absolute_error, r2_score\n",
        "from statsmodels.tsa.seasonal import seasonal_decompose\n",
        "\n",
        "# SECTION 2: Data Collection\n",
        "# Source: Berkeley Earth Monthly Data (Sample CSV)\n",
        "\n",
        "url = 'https://raw.githubusercontent.com/datasets/global-temp/master/data/monthly.csv'\n",
        "response = requests.get(url)\n",
        "\n",
        "# add if you want add from colab\n",
        "data = pd.read_csv(StringIO(response.text))\n",
        "# For Nashon\n",
        "# data = pd.read_csv(\"nashon.csv\")\n",
        "\n",
        "# **Inspect the data immediately after reading**\n",
        "print(\"DataFrame columns after reading CSV:\", data.columns.tolist())\n",
        "print(\"First 5 rows of the DataFrame after reading CSV:\")\n",
        "print(data.head())\n",
        "\n",
        "\n",
        "# Ensure the required columns are present\n",
        "required_cols = ['Year', 'Mean'] # Corrected required columns\n",
        "\n",
        "# Select only required columns\n",
        "if all(col in data.columns for col in required_cols):\n",
        "    data = data[required_cols].copy()\n",
        "\n",
        "    # Tanzania not available separately in this dataset, using 'Mean' as a proxy for global average or a region if available\n",
        "    # If 'Country' was available and relevant, we would filter here, e.g., data = data[data['Country'] == 'Africa']\n",
        "\n",
        "    # Rename and convert columns\n",
        "    data['Year'] = pd.to_datetime(data['Year']) # Convert 'Year' column to datetime\n",
        "    data.rename(columns={'Year': 'Date', 'Mean': 'Temperature'}, inplace=True) # Rename 'Year' to 'Date' and 'Mean' to 'Temperature'\n",
        "\n",
        "    # Select only relevant columns after filtering and renaming\n",
        "    data = data[['Date', 'Temperature']]\n",
        "\n",
        "    print(\"DataFrame shape after selecting Date and Temperature:\", data.shape)\n",
        "\n",
        "\n",
        "    # SECTION 3: Data Preprocessing\n",
        "    data.dropna(inplace=True)\n",
        "\n",
        "    # Resample to monthly average to handle potential duplicate dates from different sources\n",
        "    data = data.set_index('Date').resample('MS').mean().reset_index()\n",
        "\n",
        "    data['Year'] = data['Date'].dt.year\n",
        "    data['Month'] = data['Date'].dt.month\n",
        "    data['Season'] = data['Month'].apply(lambda x: 'Dry' if x in [6,7,8,9] else 'Wet')\n",
        "\n",
        "    # SECTION 4: Exploratory Data Analysis\n",
        "    plt.figure(figsize=(14, 6))\n",
        "    plt.plot(data['Date'], data['Temperature'], label='Monthly Avg Temperature', color='orange')\n",
        "    plt.title('Temperature Trend Over Time (Africa region proxy)')\n",
        "    plt.xlabel('Date')\n",
        "    plt.ylabel('Temperature (°C)')\n",
        "    plt.legend()\n",
        "    plt.grid(True)\n",
        "    plt.show()\n",
        "\n",
        "    # Seasonal Decomposition\n",
        "    # Ensure the index is datetime for seasonal_decompose\n",
        "    data_indexed = data.set_index('Date')\n",
        "    # Set the frequency of the datetime index to monthly - this should now work after resampling\n",
        "    data_indexed = data_indexed.asfreq('MS')\n",
        "\n",
        "    # **Inspect data_indexed before seasonal_decompose**\n",
        "    print(\"\\nDataFrame shape before seasonal_decompose:\", data_indexed.shape)\n",
        "    print(\"Data types of data_indexed:\", data_indexed.dtypes)\n",
        "    print(\"Missing values in data_indexed:\", data_indexed.isnull().sum())\n",
        "    print(\"First 5 rows of data_indexed:\", data_indexed.head())\n",
        "\n",
        "\n",
        "    decomp = seasonal_decompose(data_indexed['Temperature'], model='additive', period=12)\n",
        "    decomp.plot()\n",
        "    plt.show()\n",
        "\n",
        "    # Correlation Heatmap\n",
        "    corr = data[['Temperature', 'Year', 'Month']].corr()\n",
        "    sns.heatmap(corr, annot=True, cmap='coolwarm')\n",
        "    plt.title('Correlation Heatmap')\n",
        "    plt.show()\n",
        "\n",
        "    # SECTION 5: Machine Learning Model\n",
        "    features = data[['Year', 'Month']]\n",
        "    target = data['Temperature']\n",
        "\n",
        "    X_train, X_test, y_train, y_test = train_test_split(features, target, test_size=0.2, random_state=42)\n",
        "\n",
        "    # Model 1: Linear Regression\n",
        "    lr = LinearRegression()\n",
        "    lr.fit(X_train, y_train)\n",
        "    lr_preds = lr.predict(X_test)\n",
        "\n",
        "    # Model 2: Random Forest\n",
        "    rf = RandomForestRegressor(n_estimators=100, random_state=42)\n",
        "    rf.fit(X_train, y_train)\n",
        "    rf_preds = rf.predict(X_test)\n",
        "\n",
        "    # Evaluation\n",
        "    print(\"Linear Regression RMSE:\", np.sqrt(mean_squared_error(y_test, lr_preds))) # Removed squared=False and added np.sqrt\n",
        "    print(\"Random Forest RMSE:\", np.sqrt(mean_squared_error(y_test, rf_preds))) # Removed squared=False and added np.sqrt\n",
        "    print(\"Random Forest R2 Score:\", r2_score(y_test, rf_preds))\n",
        "\n",
        "    # SECTION 6: Forecasting Future Temperatures\n",
        "    future_years = pd.DataFrame({\n",
        "        'Year': list(range(2025, 2031)) * 12,\n",
        "        'Month': sorted(list(range(1, 13)) * 6)\n",
        "    })\n",
        "    future_preds = rf.predict(future_years)\n",
        "\n",
        "    # Visualize Predictions\n",
        "    future_dates = pd.date_range(start='2025-01', end='2030-12', freq='MS')\n",
        "    plt.figure(figsize=(14, 6))\n",
        "    plt.plot(future_dates, future_preds, label='Predicted Temp (2025-2030)', color='green')\n",
        "    plt.title('Forecasted Monthly Temperatures (Africa region proxy)')\n",
        "    plt.xlabel('Year')\n",
        "    plt.ylabel('Predicted Temperature (°C)')\n",
        "    plt.legend()\n",
        "    plt.grid(True)\n",
        "    plt.show()\n",
        "\n",
        "    # SECTION 7: Streamlit App Script\n",
        "    streamlit_code = '''\n",
        "import streamlit as st\n",
        "import pandas as pd\n",
        "import numpy as np\n",
        "import matplotlib.pyplot as plt\n",
        "from sklearn.ensemble import RandomForestRegressor\n",
        "from sklearn.model_selection import train_test_split\n",
        "\n",
        "st.title(\"🌍 Climate Change Forecast - Tanzania (Africa Proxy)\")\n",
        "\n",
        "# Load historical data\n",
        "@st.cache_data # Use st.cache_data instead of st.cache\n",
        "def load_data():\n",
        "    url = 'https://raw.githubusercontent.com/datasets/global-temp/master/data/monthly.csv'\n",
        "    data = pd.read_csv(url)\n",
        "    # Removed filtering by Source\n",
        "    data['Date'] = pd.to_datetime(data['Year']) # Corrected column name to 'Year'\n",
        "    data.rename(columns={'Year': 'Date', 'Mean': 'Temperature'}, inplace=True) # Rename 'Year' to 'Date' and 'Mean' to 'Temperature'\n",
        "    data.dropna(inplace=True)\n",
        "    # Resample to monthly average to handle potential duplicate dates from different sources\n",
        "    data = data.set_index('Date').resample('MS').mean().reset_index()\n",
        "    data['Year'] = data['Date'].dt.year\n",
        "    data['Month'] = data['Date'].dt.month\n",
        "    return data[['Year', 'Month', 'Temperature']] # Ensure only these columns are returned\n",
        "\n",
        "df = load_data()\n",
        "\n",
        "# Model Training\n",
        "features = df[['Year', 'Month']]\n",
        "target = df['Temperature']\n",
        "X_train, X_test, y_train, y_test = train_test_split(features, target, test_size=0.2, random_state=42)\n",
        "model = RandomForestRegressor(n_estimators=100)\n",
        "model.fit(X_train, y_train)\n",
        "\n",
        "# User Input\n",
        "year = st.slider('Select Year', 2025, 2035, 2025)\n",
        "month = st.slider('Select Month', 1, 12, 1)\n",
        "prediction = model.predict([[year, month]])[0]\n",
        "\n",
        "st.subheader(f\"Predicted Avg Temperature for {year}-{month:02d}: 🌡️ {prediction:.2f} °C\")\n",
        "\n",
        "# Plot historical data\n",
        "if st.checkbox(\"Show Historical Data\"):\n",
        "    st.line_chart(df.groupby('Year')['Temperature'].mean())\n",
        "'''\n",
        "\n",
        "    # Save to file\n",
        "    with open(\"climate_app.py\", \"w\") as f:\n",
        "        f.write(streamlit_code)\n",
        "\n",
        "    print(\"✅ Streamlit app script saved as 'climate_app.py'\")\n",
        "else:\n",
        "    print(\"Error: Required columns ('Year', 'Mean') not found in the dataset.\")"
      ],
      "metadata": {
        "id": "TePltUmY0lkz"
      },
      "execution_count": null,
      "outputs": []
    },
    {
      "cell_type": "markdown",
      "source": [
        "# how to uplaod csv file in Google colab"
      ],
      "metadata": {
        "id": "4vHMUOQld_Eo"
      }
    }
  ]
}