{
  "nbformat": 4,
  "nbformat_minor": 0,
  "metadata": {
    "colab": {
      "private_outputs": true,
      "provenance": []
    },
    "kernelspec": {
      "name": "python3",
      "display_name": "Python 3"
    },
    "language_info": {
      "name": "python"
    }
  },
  "cells": [
    {
      "cell_type": "code",
      "source": [
        "# Climate Change Analysis in Tanzania\n",
        "\n",
        "#  1. Install & Import Necessary Libraries\n",
        "!pip install pandas numpy matplotlib seaborn scikit-learn --quiet\n"
      ],
      "metadata": {
        "id": "CRYPNC_a0oTQ"
      },
      "execution_count": null,
      "outputs": []
    },
    {
      "cell_type": "code",
      "source": [],
      "metadata": {
        "id": "6RStQkFD0xCi"
      },
      "execution_count": null,
      "outputs": []
    },
    {
      "cell_type": "code",
      "source": [
        "# Import Necessary Libraries\n",
        "import pandas as pd # load data\n",
        "import numpy as np # for numeric Processing\n",
        "import matplotlib.pyplot as plt # visualization\n",
        "import seaborn as sns # Visualization\n",
        "from sklearn.model_selection import train_test_split # Machine Learning model\n",
        "from sklearn.linear_model import LinearRegression\n",
        "from sklearn.ensemble import RandomForestRegressor\n",
        "from sklearn.metrics import mean_squared_error, mean_absolute_error\n",
        "from statsmodels.tsa.seasonal import seasonal_decompose # plot time series data"
      ],
      "metadata": {
        "id": "xujcp6XX0zWD"
      },
      "execution_count": null,
      "outputs": []
    },
    {
      "cell_type": "code",
      "source": [
        "# 3. Load and Preview the Dataset\n",
        "df = pd.read_csv('https://raw.githubusercontent.com/abuu94/AnalyticsCorner/refs/heads/main/omdenaCorner/cap-project/tanzania_climate_data.csv')\n",
        "print(df.head(18))\n",
        "\n"
      ],
      "metadata": {
        "id": "abf4KUie12jj"
      },
      "execution_count": null,
      "outputs": []
    },
    {
      "cell_type": "code",
      "source": [
        "#  4. Data Preprocessing\n",
        "df['Year'] = pd.to_datetime(df['Year'], format='%Y')\n",
        "df.set_index('Year', inplace=True)\n",
        "print(df.head())\n"
      ],
      "metadata": {
        "id": "0f-T-MAJ2DBL"
      },
      "execution_count": null,
      "outputs": []
    },
    {
      "cell_type": "code",
      "source": [
        "# Check for missing values\n",
        "print(\"\\nMissing values:\\n\", df.isnull().sum())"
      ],
      "metadata": {
        "id": "NsMQ3nbGiAE_"
      },
      "execution_count": null,
      "outputs": []
    },
    {
      "cell_type": "code",
      "source": [
        "#  5. Exploratory Data Analysis (EDA)\n",
        "\n",
        "# Descriptive statistics\n",
        "print(\"\\nDescriptive Statistics:\\n\", df.describe())"
      ],
      "metadata": {
        "id": "BiphxCGc2VoP"
      },
      "execution_count": null,
      "outputs": []
    },
    {
      "cell_type": "code",
      "source": [
        "print(df.columns)"
      ],
      "metadata": {
        "id": "Q448vXXLiQV-"
      },
      "execution_count": null,
      "outputs": []
    },
    {
      "cell_type": "code",
      "source": [
        "# Line plots\n",
        "plt.figure(figsize=(12, 6))\n",
        "plt.plot(df.index.year, df['Average_Temperature_C'], label='Avg Temp (°C)', color='green')\n",
        "plt.title('Temperature : Climate Trends in Tanzania (1980–2025)')\n",
        "plt.xlabel('Year')\n",
        "plt.ylabel('Value')\n",
        "plt.legend()\n",
        "plt.grid()\n",
        "plt.show()\n"
      ],
      "metadata": {
        "id": "lcOd0xzl2TYm"
      },
      "execution_count": null,
      "outputs": []
    },
    {
      "cell_type": "code",
      "source": [
        "print(df.columns)"
      ],
      "metadata": {
        "id": "mKySh_UEit_W"
      },
      "execution_count": null,
      "outputs": []
    },
    {
      "cell_type": "code",
      "source": [
        "# Line plots\n",
        "plt.figure(figsize=(12, 6))\n",
        "plt.plot(df.index.year, df['Total_Rainfall_mm'], label='Rainfall (mm)', color='blue')\n",
        "plt.title('Rainfall : Climate Trends in Tanzania (1980–2025)')\n",
        "plt.xlabel('Year')\n",
        "plt.ylabel('Value')\n",
        "plt.legend()\n",
        "plt.grid()\n",
        "plt.show()"
      ],
      "metadata": {
        "id": "OumgYDWO3Pzz"
      },
      "execution_count": null,
      "outputs": []
    },
    {
      "cell_type": "code",
      "source": [
        "\n",
        "# Heatmap for correlation\n",
        "plt.figure(figsize=(6, 4))\n",
        "sns.heatmap(df.corr(), annot=True, cmap='coolwarm')\n",
        "plt.title(\"Correlation Matrix\")\n",
        "plt.show()\n"
      ],
      "metadata": {
        "id": "FXz1p5rd24Il"
      },
      "execution_count": null,
      "outputs": []
    },
    {
      "cell_type": "code",
      "source": [
        "print(df.columns)"
      ],
      "metadata": {
        "id": "e8tIx-QdkWV4"
      },
      "execution_count": null,
      "outputs": []
    },
    {
      "cell_type": "code",
      "source": [
        "\n",
        "# Seasonal decomposition (on temperature)\n",
        "result = seasonal_decompose(df['Average_Temperature_C'], model='additive', period=5)\n",
        "result.plot()\n",
        "# plt.suptitle(\"Seasonal Decomposition of Avg Temperature\")\n",
        "plt.show()"
      ],
      "metadata": {
        "id": "roucXYp5257n"
      },
      "execution_count": null,
      "outputs": []
    },
    {
      "cell_type": "markdown",
      "source": [
        "#  6. Machine Learning Modeling"
      ],
      "metadata": {
        "id": "zzt9WujD6H6_"
      }
    },
    {
      "cell_type": "code",
      "source": [
        "# Use year as numeric feature\n",
        "df_ml = df.copy()\n",
        "df_ml['Year'] = df_ml.index.year\n"
      ],
      "metadata": {
        "id": "3WZ4BPCx37Lh"
      },
      "execution_count": null,
      "outputs": []
    },
    {
      "cell_type": "code",
      "source": [
        "X = df_ml[['Year']]\n",
        "y_temp = df_ml['Average_Temperature_C']\n",
        "y_prec = df_ml['Total_Rainfall_mm']\n",
        "# Split data\n",
        "X_train, X_test, y_temp_train, y_temp_test = train_test_split(X, y_temp, test_size=0.2, random_state=42)"
      ],
      "metadata": {
        "id": "rhm_YJve5Ahb"
      },
      "execution_count": null,
      "outputs": []
    },
    {
      "cell_type": "code",
      "source": [
        "# Linear Regression Model for Temperature\n",
        "model_1 = LinearRegression()\n",
        "model_1.fit(X_train, y_temp_train)\n",
        "temp_pred = model_1.predict(X_test)\n"
      ],
      "metadata": {
        "id": "6iohGKDb5C-8"
      },
      "execution_count": null,
      "outputs": []
    },
    {
      "cell_type": "code",
      "source": [
        "#  7. Evaluation\n",
        "def evaluate_model(y_true, y_pred, model_name):\n",
        "    rmse = np.sqrt(mean_squared_error(y_true, y_pred))\n",
        "    mae = mean_absolute_error(y_true, y_pred)\n",
        "    print(f\"{model_name} Evaluation:\")\n",
        "    print(f\" - RMSE: {rmse:.2f}\")\n",
        "    print(f\" - MAE: {mae:.2f}\")\n",
        "    print()"
      ],
      "metadata": {
        "id": "29AACqjM5Kgu"
      },
      "execution_count": null,
      "outputs": []
    },
    {
      "cell_type": "code",
      "source": [
        "evaluate_model(y_temp_test, temp_pred, \"Linear Regression\")"
      ],
      "metadata": {
        "id": "rDxdfktZ5-OS"
      },
      "execution_count": null,
      "outputs": []
    },
    {
      "cell_type": "code",
      "source": [
        "# Random Forest for comparison\n",
        "rf_model = RandomForestRegressor(n_estimators=100, random_state=42)\n",
        "rf_model.fit(X_train, y_temp_train)\n",
        "rf_pred = rf_model.predict(X_test)\n",
        "\n",
        "\n",
        "\n",
        "evaluate_model(y_temp_test, temp_pred, \"Linear Regression\")\n",
        "evaluate_model(y_temp_test, rf_pred, \"Random Forest Regressor\")"
      ],
      "metadata": {
        "id": "4CWLmpGk6adC"
      },
      "execution_count": null,
      "outputs": []
    },
    {
      "cell_type": "code",
      "source": [
        "#  8. Predict Future Climate (2021–2031)\n",
        "future_years = pd.DataFrame({'Year': np.arange(2026, 2032)})\n",
        "future_temp_pred = rf_model.predict(future_years)\n",
        "future_temp_pred"
      ],
      "metadata": {
        "id": "Z_hBReOL6SlL"
      },
      "execution_count": null,
      "outputs": []
    },
    {
      "cell_type": "code",
      "source": [
        "#  Plotting Predictions\n",
        "plt.figure(figsize=(10, 5))\n",
        "plt.plot(df.index.year, df['Average_Temperature_C'], label='Historical Temp', color='green')\n",
        "plt.plot(future_years['Year'], future_temp_pred, label='Predicted Temp (2025-2031)', color='orange')\n",
        "plt.title(\"Temperature Forecast for Tanzania\")\n",
        "plt.xlabel(\"Year\")\n",
        "plt.ylabel(\"Temperature (°C)\")\n",
        "plt.legend()\n",
        "plt.grid()\n",
        "plt.show()\n"
      ],
      "metadata": {
        "id": "DKSe7lEg36H4"
      },
      "execution_count": null,
      "outputs": []
    },
    {
      "cell_type": "code",
      "source": [
        "!pip install streamlit -q"
      ],
      "metadata": {
        "id": "fT7nW-X1uCpN"
      },
      "execution_count": null,
      "outputs": []
    },
    {
      "cell_type": "code",
      "source": [
        "%%writefile app.py\n",
        "import streamlit as st\n",
        "import pandas as pd\n",
        "import numpy as np # for numeric Processing\n",
        "import matplotlib.pyplot as plt # visualization\n",
        "import seaborn as sns # Visualization\n",
        "from sklearn.model_selection import train_test_split # Machine Learning model\n",
        "from sklearn.linear_model import LinearRegression\n",
        "from sklearn.ensemble import RandomForestRegressor\n",
        "from sklearn.metrics import mean_squared_error, mean_absolute_error\n",
        "from statsmodels.tsa.seasonal import seasonal_decompose # plot time series data\n",
        "\n",
        "st.set_page_config(page_title=\"Tanzania Climate Analysis\", layout=\"wide\")\n",
        "st.title(\" Climate Change Analysis - Tanzania\")\n",
        "st.markdown(\"This Interactive \")\n",
        "\n",
        "st.sidebar.header(\"Years Navigation\")\n",
        "year_range= st.sidebar.slider('Select Year', 1980, 2024,(1990,2024))\n",
        "forcast_years = st.sidebar.slider('Forecast Future Temp', 2026, 2031,(2026,2031))\n",
        "\n",
        "df = pd.read_csv('https://raw.githubusercontent.com/abuu94/AnalyticsCorner/refs/heads/main/omdenaCorner/cap-project/tanzania_climate_data.csv')\n",
        "# print(df.head())\n",
        "df_filtered = df[(df['Year'] >= year_range[0]) & (df['Year'] <= year_range[1])]\n",
        "# df_filtered.head()\n",
        "st.subheader(\"1. Sample Climate Data\")\n",
        "st.dataframe(df_filtered.head())\n",
        "df_filtered['Year'] = pd.to_datetime(df_filtered['Year'], format='%Y')\n",
        "df_filtered.set_index('Year', inplace=True)\n",
        "st.subheader(\"2. Descriptive Statistics\")\n",
        "st.write(df_filtered.describe())\n",
        "st.subheader(\"3. Climate Trends Over Time\")\n",
        "fig1,ax1 = plt.subplots(figsize=(12, 6))\n",
        "ax1.plot(df_filtered.index.year, df_filtered['Average_Temperature_C'], label='Avg Temp (°C)', color='green')\n",
        "ax1.plot(df_filtered.index.year, df_filtered['Total_Rainfall_mm'], label='Rainfall (mm)', color='blue')\n",
        "ax1.set_title('Temperature : Climate Trends in Tanzania (1980–2025)')\n",
        "ax1.set_xlabel('Year')\n",
        "ax1.set_ylabel('Value')\n",
        "ax1.legend()\n",
        "ax1.grid()\n",
        "st.pyplot(fig1)\n",
        "st.subheader(\"4. Correlation Analysis\")\n",
        "fig2,ax2 = plt.subplots(figsize=(6, 4))\n",
        "sns.heatmap(df_filtered.corr(), annot=True, cmap='coolwarm',ax=ax2)\n",
        "ax2.set_title(\"Correlation Matrix\")\n",
        "st.pyplot(fig2)\n",
        "st.subheader(\"5. Seasonal Decomposition\")\n",
        "if len(df_filtered) > 5:\n",
        "  result = seasonal_decompose(df_filtered['Average_Temperature_C'], model='additive', period=5 )\n",
        "  fig3 = result.plot()\n",
        "  fig3.set_size_inches(10,3)\n",
        "  st.pyplot(fig3)\n",
        "else:\n",
        "  st.warning(\"Not enough data points\")\n",
        "\n",
        "st.subheader(\"6. Temperature Forecast\")\n",
        "df_ml = df_filtered.copy()\n",
        "df_ml['Year'] = df_ml.index.year\n",
        "X = df_ml[['Year']]\n",
        "y_temp = df_ml['Average_Temperature_C']\n",
        "\n",
        "X_train, X_test, y_temp_train, y_temp_test = train_test_split(X, y_temp, test_size=0.2, random_state=42)\n",
        "lr=LinearRegression()\n",
        "rf=RandomForestRegressor(n_estimators=100, random_state=42)\n",
        "lr.fit(X_train, y_temp_train)\n",
        "rf.fit(X_train, y_temp_train)\n",
        "\n",
        "y_prec_lr=lr.predict(X_test)\n",
        "y_prec_rf=rf.predict(X_test)\n",
        "\n",
        "def evaluate_model(y_true, y_pred, model_name):\n",
        "    rmse = np.sqrt(mean_squared_error(y_true, y_pred))\n",
        "    mae = mean_absolute_error(y_true, y_pred)\n",
        "    st.write(f\"{model_name} Evaluation:\")\n",
        "    st.write(f\" - RMSE: {rmse:.2f}\")\n",
        "    st.write(f\" - MAE: {mae:.2f}\")\n",
        "    st.write()\n",
        "    print(f\"{model_name} Evaluation:\")\n",
        "    print(f\" - RMSE: {rmse:.2f}\")\n",
        "    print(f\" - MAE: {mae:.2f}\")\n",
        "# future_years = pd.DataFrame({'Year': np.arange(forcast_years[0], forcast_years[1])})\n",
        "\n",
        "evaluate_model(y_temp_test, y_prec_lr, \"Linear Regression\")\n",
        "evaluate_model(y_temp_test, y_prec_rf, \"Random Forest Regressor\")\n",
        "\n",
        "st.subheader(f\"7. Forecast Future Temperature (2025-{forcast_years}) \")\n",
        "future_years = pd.DataFrame({'Year': np.arange(forcast_years[0], forcast_years[1])})\n",
        "future_preds = rf.predict(future_years)\n",
        "st.write(future_temp_pred)\n",
        "\n",
        "fig4,ax4 = plt.subplots(figsize=(10, 5))\n",
        "ax4.plot(df_filtered.index.year, df_filtered['Average_Temperature_C'], label='Historical Temp', color='green')\n",
        "ax4.plot(future_years['Year'], future_preds, label='Predicted Temp (2025-2031)', color='orange')\n",
        "ax4.set_title(\"Temperature Forecast for Tanzania\")\n",
        "ax4.set_xlabel(\"Year\")\n",
        "ax4.set_ylabel(\"Temperature (°C)\")\n",
        "ax4.legend()\n",
        "ax4.grid()\n",
        "st.pyplot(fig4)\n",
        "\n",
        "st.success(\"Done\")"
      ],
      "metadata": {
        "id": "J-Chxh5uuyYA"
      },
      "execution_count": null,
      "outputs": []
    },
    {
      "cell_type": "code",
      "source": [
        "# !pip install pyngrok\n",
        "# !pip install streamlit -q\n",
        "# !streamlit run app.py & npx localtunnel --server.port 8501"
      ],
      "metadata": {
        "id": "q1C363x7_2Ab"
      },
      "execution_count": null,
      "outputs": []
    },
    {
      "cell_type": "code",
      "source": [
        "!curl https://loca.lt/mytunnelpassword"
      ],
      "metadata": {
        "id": "v5S2N-mhCFM9"
      },
      "execution_count": null,
      "outputs": []
    },
    {
      "cell_type": "code",
      "source": [
        "!pip install streamlit -q\n",
        "!pip install -g localtunnel\n",
        "!streamlit run app.py & lt --server.port 8501"
      ],
      "metadata": {
        "id": "AMwsACZcA7ZZ"
      },
      "execution_count": null,
      "outputs": []
    }
  ]
}